{
 "cells": [
  {
   "cell_type": "code",
   "execution_count": null,
   "id": "b354be87-57b3-4f53-a1ae-e81261aec641",
   "metadata": {},
   "outputs": [],
   "source": [
    "import scipy as sp\n",
    "import numpy as np\n",
    "import seaborn as sns\n",
    "import matplotlib\n",
    "from matplotlib import pyplot as plt\n",
    "from scipy.special import expit, logit\n",
    "from scipy.stats import entropy\n",
    "import scipy.stats as stats\n",
    "import statsmodels.api as sm\n",
    "from sklearn.manifold import MDS\n",
    "import pandas as pd\n",
    "from matplotlib import pyplot as plt\n",
    "import sklearn.datasets as dt\n",
    "import seaborn as sns         \n",
    "import numpy as np\n",
    "from sklearn.metrics.pairwise import manhattan_distances, euclidean_distances\n",
    "from matplotlib.offsetbox import OffsetImage, AnnotationBbox\n",
    "import torch\n",
    "import torch.nn as nn\n",
    "import models"
   ]
  },
  {
   "cell_type": "code",
   "execution_count": null,
   "id": "ca56a3c2",
   "metadata": {},
   "outputs": [],
   "source": [
    "# Define your model architecture (must match the architecture of the saved model)\n",
    "class YourModel(nn.Module):\n",
    "    def __init__(self):\n",
    "        super(YourModel, self).__init__()\n",
    "        # Define your layers here\n",
    "\n",
    "# Create an instance of your model\n",
    "model = YourModel()\n",
    "\n",
    "# Specify the path to the saved model checkpoint\n",
    "model_checkpoint_path = 'model.pth'\n",
    "\n",
    "# Load the model checkpoint\n",
    "checkpoint = torch.load(model_checkpoint_path)\n",
    "\n",
    "# Load the model's state_dict (parameters)\n",
    "model.load_state_dict(checkpoint['model_state_dict'])"
   ]
  }
 ],
 "metadata": {
  "kernelspec": {
   "display_name": "Python 3 (ipykernel)",
   "language": "python",
   "name": "python3"
  },
  "language_info": {
   "codemirror_mode": {
    "name": "ipython",
    "version": 3
   },
   "file_extension": ".py",
   "mimetype": "text/x-python",
   "name": "python",
   "nbconvert_exporter": "python",
   "pygments_lexer": "ipython3",
   "version": "3.10.12"
  }
 },
 "nbformat": 4,
 "nbformat_minor": 5
}
